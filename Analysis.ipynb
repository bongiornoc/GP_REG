{
 "cells": [
  {
   "cell_type": "code",
   "execution_count": 1,
   "metadata": {},
   "outputs": [],
   "source": [
    "import sympy \n",
    "import utils"
   ]
  },
  {
   "cell_type": "code",
   "execution_count": null,
   "metadata": {},
   "outputs": [],
   "source": [
    "# Calibrated regressors\n",
    "results_csv_path = 'data/output_results_n_1000_q_sample_max_1_0_q_star_max_1_00.csv'"
   ]
  },
  {
   "cell_type": "code",
   "execution_count": 15,
   "metadata": {},
   "outputs": [],
   "source": [
    "symbols = ['q', 'r']\n",
    "q, r = sympy.symbols(symbols)\n",
    "\n",
    "# Define the terms to verify\n",
    "term_1 = r*q\n",
    "term_2 = r**2*q**2\n",
    "\n",
    "# Load the results and verify the terms\n",
    "regression_output = utils.verify_terms_in_program(results_csv_path,[term_1, term_2], symbols)"
   ]
  },
  {
   "cell_type": "code",
   "execution_count": 5,
   "metadata": {},
   "outputs": [
    {
     "data": {
      "text/latex": [
       "$\\displaystyle - 0.059774 q^{2} r^{2} + 0.247 q r$"
      ],
      "text/plain": [
       "-0.059774*q**2*r**2 + 0.247*q*r"
      ]
     },
     "execution_count": 5,
     "metadata": {},
     "output_type": "execute_result"
    }
   ],
   "source": [
    "regression_output.loc[0,'best_program']"
   ]
  },
  {
   "cell_type": "markdown",
   "metadata": {},
   "source": [
    "## Simple analysis"
   ]
  },
  {
   "cell_type": "code",
   "execution_count": 12,
   "metadata": {},
   "outputs": [
    {
     "name": "stdout",
     "output_type": "stream",
     "text": [
      "66.0 %\n"
     ]
    }
   ],
   "source": [
    "print( 100*regression_output['HAS terms'].mean(),'%')"
   ]
  },
  {
   "cell_type": "markdown",
   "metadata": {},
   "source": [
    "We found that 66% of the calibrated regressor contains a term $c_0 r q + c_1 r^2 q^2$"
   ]
  },
  {
   "cell_type": "code",
   "execution_count": 13,
   "metadata": {},
   "outputs": [
    {
     "name": "stdout",
     "output_type": "stream",
     "text": [
      "25.0 %\n"
     ]
    }
   ],
   "source": [
    "print( 100*regression_output['ONLY terms'].mean(),'%')"
   ]
  },
  {
   "cell_type": "markdown",
   "metadata": {},
   "source": [
    "We found that 25% of the calibrated regressor contains only a term $c_0 r q + c_1 r^2 q^2$"
   ]
  }
 ],
 "metadata": {
  "kernelspec": {
   "display_name": "latest",
   "language": "python",
   "name": "python3"
  },
  "language_info": {
   "codemirror_mode": {
    "name": "ipython",
    "version": 3
   },
   "file_extension": ".py",
   "mimetype": "text/x-python",
   "name": "python",
   "nbconvert_exporter": "python",
   "pygments_lexer": "ipython3",
   "version": "3.12.3"
  }
 },
 "nbformat": 4,
 "nbformat_minor": 2
}
